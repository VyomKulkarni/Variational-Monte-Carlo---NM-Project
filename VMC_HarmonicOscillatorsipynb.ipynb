{
  "nbformat": 4,
  "nbformat_minor": 0,
  "metadata": {
    "colab": {
      "name": "VMC_HarmonicOscillatorsipynb",
      "provenance": []
    },
    "kernelspec": {
      "name": "python3",
      "display_name": "Python 3"
    },
    "language_info": {
      "name": "python"
    }
  },
  "cells": [
    {
      "cell_type": "code",
      "metadata": {
        "id": "khEpXbuAGIWN"
      },
      "source": [
        "import numpy as np\n",
        "import matplotlib.pyplot as plt\n",
        "import seaborn as sns\n",
        "import plotly.graph_objects as go\n",
        "from math import pi"
      ],
      "execution_count": null,
      "outputs": []
    },
    {
      "cell_type": "code",
      "metadata": {
        "id": "gGGRumuNGQlc"
      },
      "source": [
        "sns.set_style('darkgrid') # darkgrid, white grid, dark, white and ticks\n",
        "plt.rc('axes', titlesize=18)     # fontsize of the axes title\n",
        "plt.rc('axes', labelsize=14)    # fontsize of the x and y labels\n",
        "plt.rc('xtick', labelsize=13)    # fontsize of the tick labels\n",
        "plt.rc('ytick', labelsize=13)    # fontsize of the tick labels\n",
        "plt.rc('legend', fontsize=13)    # legend fontsize\n",
        "plt.rc('font', size=13)          # controls default text sizes"
      ],
      "execution_count": null,
      "outputs": []
    },
    {
      "cell_type": "code",
      "metadata": {
        "id": "p-omtXr3GRPM"
      },
      "source": [
        "def Metropolis(x0, h, N, f, beta): \n",
        "  # f = probability distribution, x0 = initial guess, h = step size, N = number of samples\n",
        "  samples = np.array([x0])\n",
        "  acc_trials_count = 1\n",
        "  total_trials = 1\n",
        "  xi = x0\n",
        "  while(total_trials < N):\n",
        "    x_trial = np.random.uniform(xi-h/2, xi+h/2)\n",
        "    total_trials += 1\n",
        "    r = f(x_trial,beta)/f(xi,beta)\n",
        "    if(r>=1):\n",
        "      xi = x_trial\n",
        "      acc_trials_count += 1\n",
        "      samples = np.append(samples, xi)\n",
        "    else:\n",
        "      eta = np.random.uniform(0,1)\n",
        "      if(eta<r):\n",
        "        xi = x_trial\n",
        "        acc_trials_count += 1\n",
        "        samples = np.append(samples, xi)\n",
        "      else:\n",
        "        samples = np.append(samples, xi)\n",
        "\n",
        "  acceptance_ratio = acc_trials_count/total_trials\n",
        "  #print(acceptance_ratio)\n",
        "  return samples"
      ],
      "execution_count": null,
      "outputs": []
    },
    {
      "cell_type": "markdown",
      "metadata": {
        "id": "lnka2c5OGW-C"
      },
      "source": [
        "**1D Harmonic Oscillator**"
      ]
    },
    {
      "cell_type": "code",
      "metadata": {
        "id": "3hZFF3UsGUbu"
      },
      "source": [
        "def VMC(beta):\n",
        "  samples = Metropolis(0, 5.5, 10000, rho1, beta)\n",
        "  psi = np.exp(-1*beta*(samples**2))\n",
        "  E_T = np.average(E_L1(samples, beta))\n",
        "  #E_T = E_L1(samples, beta)\n",
        "  return E_T\n",
        "#print(VMC(0.02))"
      ],
      "execution_count": null,
      "outputs": []
    },
    {
      "cell_type": "code",
      "metadata": {
        "id": "sNmxdC3lGeft"
      },
      "source": [
        "def E_L1(x, beta):\n",
        "  return beta + (0.5 - 2.0*(beta**2))*(x**2)\n",
        "  \n",
        "def rho1(x, beta):\n",
        "  return np.sqrt(2*beta/np.pi)*np.exp(-2*beta*(x**2))"
      ],
      "execution_count": null,
      "outputs": []
    },
    {
      "cell_type": "code",
      "metadata": {
        "id": "MnRiMhM8GiKZ"
      },
      "source": [
        "def wavefunc(x,beta):\n",
        "  psi = np.exp(-1*beta*x**2)"
      ],
      "execution_count": null,
      "outputs": []
    },
    {
      "cell_type": "code",
      "metadata": {
        "id": "Y7WkYOjPGm-2"
      },
      "source": [
        "beta_space = np.linspace(0.1, 2, 100)\n",
        "E_arr = np.array([])\n",
        "for beta in beta_space:\n",
        "  E = VMC(beta)\n",
        "  E_arr = np.append(E_arr, E)\n",
        "\n",
        "\n",
        "plt.plot(beta_space, E_arr)\n",
        "plt.title('Energy vs. trial parameter')\n",
        "plt.xlabel('Beta')\n",
        "plt.ylabel('Energy')\n",
        "plt.show()\n",
        "E_ground = np.min(E_arr)\n",
        "min_id = np.argmin(E_arr)\n",
        "min_beta = beta_space[min_id]\n",
        "print(\"Appproximate Ground State Energy = \", E_ground)\n",
        "print('beta : ', min_beta)"
      ],
      "execution_count": null,
      "outputs": []
    },
    {
      "cell_type": "markdown",
      "metadata": {
        "id": "jtlU3y48GqE5"
      },
      "source": [
        "**3D harmonic oscillator**"
      ]
    },
    {
      "cell_type": "code",
      "metadata": {
        "id": "ESv7itQyGn8f"
      },
      "source": [
        "def VMC3d(beta):\n",
        "  samples = Metropolis(0, 7, 10000, rho3d, beta)\n",
        "  E_T = np.average(E_L3d(samples, beta))\n",
        "  #E_T = E_L1(samples, beta)\n",
        "  return E_T\n",
        "#print(VMC(0.02))"
      ],
      "execution_count": null,
      "outputs": []
    },
    {
      "cell_type": "code",
      "metadata": {
        "id": "ykMnOp-sGw8b"
      },
      "source": [
        "def E_L3d(x, beta):\n",
        "  return 3*beta + (0.5 - 2.0*(beta**2))*(x**2)\n",
        "\n",
        "def rho3d(x, beta):\n",
        "  return np.sqrt(2*beta/pi)*np.exp(-2*beta*(x**2))"
      ],
      "execution_count": null,
      "outputs": []
    },
    {
      "cell_type": "code",
      "metadata": {
        "id": "CraTGzxbGz48"
      },
      "source": [
        "beta_space = np.linspace(0.1, 1, 200)\n",
        "E_arr = np.array([])\n",
        "for beta in beta_space:\n",
        "  E = VMC3d(beta)\n",
        "  E_arr = np.append(E_arr, E)\n",
        "\n",
        "plt.plot(beta_space, E_arr)\n",
        "plt.title('Energy vs. trial parameter')\n",
        "plt.xlabel('Beta')\n",
        "plt.ylabel('Energy')\n",
        "plt.show()\n",
        "E_ground = np.min(E_arr)\n",
        "min_id = np.argmin(E_arr)\n",
        "min_beta = beta_space[min_id]\n",
        "print(\"Appproximate Ground State Energy = \", E_ground)\n",
        "print('beta : ', min_beta)"
      ],
      "execution_count": null,
      "outputs": []
    }
  ]
}